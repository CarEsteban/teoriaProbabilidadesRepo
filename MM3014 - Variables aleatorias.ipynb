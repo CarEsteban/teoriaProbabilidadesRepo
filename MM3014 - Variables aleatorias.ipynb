{
 "cells": [
  {
   "cell_type": "markdown",
   "id": "3062127c",
   "metadata": {},
   "source": [
    "# Variables aleatorias\n",
    "\n",
    "Sea $(S,\\mathcal{S})$ un espacio muestral.\n",
    "\n",
    "Un mapeo $X:S\\to \\mathbb{R}$ se llama **variable aleatoria** si el conjunto $\\{\\omega\\in S:X(\\omega)\\leq x\\}\\in \\mathcal{S},\\ \\forall x\\in \\mathbb{R}$."
   ]
  },
  {
   "cell_type": "markdown",
   "id": "4ac7e987",
   "metadata": {},
   "source": [
    "## Ejemplo 3.\n",
    "\n",
    "Supongamos que se lanzan 2 dados. Sea $X:S\\to \\mathbb{R}$ con $X((m,n))=m+n$ una variable aleatoria ($X$ es la suma de los dados).\n",
    "Los siguientes son ejemplos de eventos:"
   ]
  },
  {
   "cell_type": "code",
   "execution_count": null,
   "id": "25e6dfe4",
   "metadata": {
    "scrolled": true
   },
   "outputs": [],
   "source": [
    "import itertools as it\n",
    "\n",
    "A = set({1,2,3,4,5,6})\n",
    "S = set(it.product(A,repeat=2))\n",
    "\n",
    "X1 = set([k for k in S if k[0]+k[1]==1])\n",
    "X2 = set([k for k in S if k[0]+k[1]<=3])\n",
    "X3 = set([k for k in S if k[0]+k[1]>=10])\n",
    "X4 = set([k for k in S if 2<=k[0]+k[1]<=12])\n",
    "\n",
    "print(f\"X=1 es {X1}\")\n",
    "print(f\"X≤3 es {X2}\")\n",
    "print(f\"X≥10 es {X3}\")\n",
    "print(f\"2≤X≤12 es {set(list(X4)[0:5])}\")"
   ]
  },
  {
   "attachments": {},
   "cell_type": "markdown",
   "id": "9df3e366",
   "metadata": {},
   "source": [
    "## Ejercicio 4.\n",
    "\n",
    "Supongamos que se lanza una moneda cuatro veces. Sea $X$ el número de caras en la secuencia observada una variable aleatoria.\n",
    "\n",
    "a. Elabore una tabla de frecuencias de los valores de $X$.\n",
    "\n",
    "b. Liste los resultados del evento $\\{X=3\\}$."
   ]
  },
  {
   "cell_type": "code",
   "execution_count": null,
   "id": "6ffc7012",
   "metadata": {},
   "outputs": [],
   "source": []
  },
  {
   "cell_type": "markdown",
   "id": "82f568e7",
   "metadata": {},
   "source": [
    "## Ejercicio 5.\n",
    "\n",
    "Supongamos que se lanzan tres dados. Sean $X$ la suma de los dados y $Y$ el producto de los dados, variables aleatorias.\n",
    "\n",
    "a. Elabore una tabla de frecuencias de los valores de $X$. ¿Cuál es el más frecuente? ¿Cuántas veces ocurrió?\n",
    "\n",
    "b. Elabore una tabla de frecuencias de los valores de $Y$. ¿Cuál es el más frecuente? ¿Cuántas veces ocurrió?\n",
    "\n",
    "c. Liste los resultados del evento $\\{X\\leq 5\\}$.\n",
    "\n",
    "d. Liste los resultados del evento $\\{8\\leq Y\\leq 12\\}$."
   ]
  },
  {
   "cell_type": "code",
   "execution_count": null,
   "id": "00294377",
   "metadata": {},
   "outputs": [],
   "source": []
  }
 ],
 "metadata": {
  "kernelspec": {
   "display_name": "Python 3 (ipykernel)",
   "language": "python",
   "name": "python3"
  },
  "language_info": {
   "codemirror_mode": {
    "name": "ipython",
    "version": 3
   },
   "file_extension": ".py",
   "mimetype": "text/x-python",
   "name": "python",
   "nbconvert_exporter": "python",
   "pygments_lexer": "ipython3",
   "version": "3.9.7"
  }
 },
 "nbformat": 4,
 "nbformat_minor": 5
}
