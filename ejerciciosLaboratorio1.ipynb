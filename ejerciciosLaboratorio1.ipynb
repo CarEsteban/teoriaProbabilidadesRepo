{
 "cells": [
  {
   "cell_type": "markdown",
   "id": "a88bf3e1-e88f-40c1-ba36-d1dac7dac8f4",
   "metadata": {},
   "source": [
    "# Ejercicio 1\n",
    "\n",
    "Una empresa tiene un grupo de 8 empleados: **Ana, Bruno, Carlos, Dina, Eli, Frank, Gaby y Hugo**, de los cuales necesita formar equipos de 3 o 4 personas para un proyecto.\n",
    "\n",
    "a. ¿Cuántos equipos diferentes de 3 personas pueden formarse? ¿En cuántos de éstos está Ana?\n",
    "\n",
    "b. ¿Cuántos equipos diferentes de 4 personas pueden formarse? ¿En cuántos de éstos no está Frank?\n",
    "\n"
   ]
  },
  {
   "cell_type": "code",
   "execution_count": 58,
   "id": "68e8c274-705c-4dbf-90f8-52370265f4d6",
   "metadata": {},
   "outputs": [],
   "source": [
    "# librerias\n",
    "import itertools as it\n",
    "import sympy as sy"
   ]
  },
  {
   "cell_type": "code",
   "execution_count": 27,
   "id": "3edb2c4a-526d-4193-8acf-59516f3d1d89",
   "metadata": {},
   "outputs": [
    {
     "name": "stdout",
     "output_type": "stream",
     "text": [
      "La cantidad de equipos diferentes de 3 personas son: 126\n",
      "La cantidad de equipos diferentes de 3 personas son: 840\n"
     ]
    }
   ],
   "source": [
    "E = {\"Ana\",\"Bruno\",\"Carlos\",\"Dina\",\"Eli\",\"Frank\",\"Gaby\",\"Hugo\"}\n",
    "Sa = set(it.permutations(E,3))\n",
    "\n",
    "#inciso A\n",
    "ansa = sum(1 for k in Sa if \"Ana\" in k)\n",
    "print(f\"La cantidad de equipos diferentes de 3 personas son: {ansa}\")\n",
    "\n",
    "#inciso B\n",
    "Sb = set(it.permutations(E,4))\n",
    "frankIs = sum(1 for k in Sb if \"Frank\" in k)\n",
    "ansb = len(Sb) - frankIs\n",
    "print(f\"La cantidad de equipos diferentes de 3 personas son: {ansb}\")"
   ]
  },
  {
   "cell_type": "markdown",
   "id": "d0905ca1-cdbd-4e68-acfc-771f875bcb70",
   "metadata": {},
   "source": [
    "# Ejercicio 2\n",
    "\n",
    "a. ¿Cuántas palabras diferentes se pueden formar usando todas las letras de la palabra **SEERESS**?\n",
    "\n",
    "b. ¿Cuántas de estas palabras comienzan con **S** y terminan con **R**?\n",
    "\n",
    "c. ¿Cuántas palabras diferentes se pueden formar usando cinco o más letras de la palabra **SEERESS**?\n"
   ]
  },
  {
   "cell_type": "code",
   "execution_count": 102,
   "id": "f048a65d-ad12-4932-ab36-17c6cdb0a485",
   "metadata": {},
   "outputs": [
    {
     "name": "stdout",
     "output_type": "stream",
     "text": [
      "La cantidad de palabras diferentes que se pueden formar con la palabra SEERESS son: 140\n",
      "La cantidad de palabras comienzan con S y terminan con R son: 10\n",
      "La cantidad palabras diferentes que se pueden formar usando cinco o más letras de la palabra SEERESS son: 370\n"
     ]
    }
   ],
   "source": [
    "A = \"SEERESS\"\n",
    "S = set(it.permutations(A))\n",
    "\n",
    "# inciso A\n",
    "ansa = len(S)\n",
    "print(f\"La cantidad de palabras diferentes que se pueden formar con la palabra {A} son: {ansa}\")\n",
    "\n",
    "# inciso B\n",
    "ansb = sum(1 for k in S if k[0]==\"S\" and k[6]==\"R\")\n",
    "print(f\"La cantidad de palabras comienzan con S y terminan con R son: {ansb}\")\n",
    "\n",
    "# inciso C\n",
    "cinco = set(it.permutations(A,5))\n",
    "seis = set(it.permutations(A,6))\n",
    "siete = set(it.permutations(A,7))\n",
    "\n",
    "ansc = len(cinco) + len(seis) + len(siete)\n",
    "print(f\"La cantidad palabras diferentes que se pueden formar usando cinco o más letras de la palabra {A} son: {ansc}\")\n"
   ]
  },
  {
   "cell_type": "markdown",
   "id": "42835780-e245-46bb-b509-97d68636bb9e",
   "metadata": {},
   "source": [
    "### Ejercicio 3\n",
    "\n",
    "¿Cuántos números entre 1 y 1,000,000 son primos?\n"
   ]
  },
  {
   "cell_type": "code",
   "execution_count": 63,
   "id": "3b618d5e-b86d-4daf-a385-ebc3b68186f4",
   "metadata": {},
   "outputs": [
    {
     "name": "stdout",
     "output_type": "stream",
     "text": [
      "Cantidad de números primos entre 1 y 1,000,000: 78498\n"
     ]
    }
   ],
   "source": [
    "primos = list(sy.primerange(1, 1000000))\n",
    "print(f\"Cantidad de números primos entre 1 y 1,000,000: {len(primos)}\")\n"
   ]
  },
  {
   "cell_type": "markdown",
   "id": "8148148d-f3d4-4537-89ec-af12c2f7abb6",
   "metadata": {},
   "source": [
    "### Ejercicio 4\n",
    "\n",
    "a. ¿Cuántos números decimales de 4 dígitos se pueden formar usando los dígitos del 0 al 9?\n",
    "\n",
    "b. ¿Cuántos tienen uno o más dígitos repetidos? Ej.: 2324, 5255, 6767, etc.\n",
    "\n",
    "c. ¿Cuántos tienen los 4 dígitos repetidos? Ej.: 3333.\n",
    "\n",
    "d. ¿Cuántos tienen dos dígitos (diferentes) repetidos dos veces cada uno? Ej.: 2424.\n",
    "\n",
    "e. ¿Cuántos de estos repiten un dígito dos veces y los otros no se repiten? Ej.: 3137.\n",
    "\n",
    "f. ¿Cuántos de estos repiten un dígito tres veces y el otro no se repite? Ej.: 9199.\n"
   ]
  },
  {
   "cell_type": "code",
   "execution_count": 123,
   "id": "2e351aa3-eb66-4f9f-acd0-f925d0d01299",
   "metadata": {},
   "outputs": [
    {
     "name": "stdout",
     "output_type": "stream",
     "text": [
      "Número total de números decimales de 4 dígitos: 9000\n",
      "Números con uno o más dígitos repetidos: 4464\n",
      "Números con los 4 dígitos iguales: 0\n",
      "Números con dos dígitos diferentes repetidos dos veces cada uno: 0\n",
      "Números con un dígito repetido dos veces y los otros no se repiten: 0\n",
      "Números con un dígito repetido tres veces y el otro no se repite: 0\n"
     ]
    }
   ],
   "source": [
    "A = {0,1,2,3,4,5,6,7,8,9}\n",
    "S = it.product(A, repeat=4)\n",
    "\n",
    "#inciso A\n",
    "ansa = sum(1 for k in S if k[0] != 0)\n",
    "print(f\"Número total de números decimales de 4 dígitos: {ansa}\") \n",
    "\n",
    "#inciso B\n",
    "sinRepetidos = 9*9*8*7\n",
    "ansb = ansa - sinRepetidos\n",
    "print(f\"Números con uno o más dígitos repetidos: {ansb}\") \n",
    "\n",
    "#inciso C\n",
    "ansc = sum(1 for k in S if (k[0] == k[1] == k[2] == k[3]))\n",
    "print(f\"Números con los 4 dígitos iguales: {ansc}\")   \n",
    "\n",
    "#inciso D\n",
    "ansd = 0\n",
    "print(f\"Números con dos dígitos diferentes repetidos dos veces cada uno: {ansd}\")\n",
    "\n",
    "#inciso E\n",
    "anse = 0\n",
    "print(f\"Números con un dígito repetido dos veces y los otros no se repiten: {anse}\")  # \n",
    "\n",
    "#inciso F\n",
    "ansf = 0\n",
    "print(f\"Números con un dígito repetido tres veces y el otro no se repite: {ansf}\")  \n"
   ]
  }
 ],
 "metadata": {
  "kernelspec": {
   "display_name": "Python 3 (ipykernel)",
   "language": "python",
   "name": "python3"
  },
  "language_info": {
   "codemirror_mode": {
    "name": "ipython",
    "version": 3
   },
   "file_extension": ".py",
   "mimetype": "text/x-python",
   "name": "python",
   "nbconvert_exporter": "python",
   "pygments_lexer": "ipython3",
   "version": "3.13.1"
  }
 },
 "nbformat": 4,
 "nbformat_minor": 5
}
